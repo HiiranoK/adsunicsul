{
 "cells": [
  {
   "cell_type": "code",
   "execution_count": 2,
   "metadata": {},
   "outputs": [
    {
     "name": "stdout",
     "output_type": "stream",
     "text": [
      "hello world\n"
     ]
    }
   ],
   "source": [
    "def hello():\n",
    "    print('hello world')\n",
    "hello()"
   ]
  },
  {
   "cell_type": "code",
   "execution_count": 6,
   "metadata": {},
   "outputs": [
    {
     "name": "stdout",
     "output_type": "stream",
     "text": [
      "5.0\n"
     ]
    }
   ],
   "source": [
    "def calcula_media(valor1, valor2, valor3):\n",
    "    soma = valor1+valor2+valor3\n",
    "    media = soma/3\n",
    "    return media\n",
    "\n",
    "resultado = calcula_media(1,7,7)\n",
    "\n",
    "print(resultado)"
   ]
  },
  {
   "cell_type": "code",
   "execution_count": 10,
   "metadata": {},
   "outputs": [
    {
     "name": "stdout",
     "output_type": "stream",
     "text": [
      "8.666666666666666\n"
     ]
    }
   ],
   "source": [
    "#citando os parametro\n",
    "resultado2 = calcula_media(valor3 = 9,valor1 = 10, valor2 =7)\n",
    "print(resultado2)"
   ]
  },
  {
   "cell_type": "code",
   "execution_count": 14,
   "metadata": {},
   "outputs": [
    {
     "name": "stdout",
     "output_type": "stream",
     "text": [
      "ola, Richard\n"
     ]
    }
   ],
   "source": [
    "#sobreescrevendo o parametro end\n",
    "print('ola', end= '')\n",
    "print(', Richard')"
   ]
  },
  {
   "cell_type": "code",
   "execution_count": 15,
   "metadata": {},
   "outputs": [],
   "source": [
    "#atribuindo valores padrão para os parametros, \n",
    "# se houver um parametro não defalt, este deve vir antes.\n",
    "def calcula_media(valor1=0,valor2=0,valor3=0):\n",
    "    soma = valor1+valor2+valor3\n",
    "    media = soma/3\n",
    "    return media"
   ]
  },
  {
   "cell_type": "code",
   "execution_count": 17,
   "metadata": {},
   "outputs": [
    {
     "name": "stdout",
     "output_type": "stream",
     "text": [
      "(10, 8, 9) <class 'tuple'>\n"
     ]
    }
   ],
   "source": [
    "# definir parametros variados\n",
    "def calcula_media(*args): #variavel de convensão\n",
    "    print(args, type(args))\n",
    "calcula_media(10,8,9) # valores mapeados como uma tupla"
   ]
  },
  {
   "cell_type": "code",
   "execution_count": 23,
   "metadata": {},
   "outputs": [
    {
     "data": {
      "text/plain": [
       "9.3"
      ]
     },
     "execution_count": 23,
     "metadata": {},
     "output_type": "execute_result"
    }
   ],
   "source": [
    "def calcula_media(*args, margem=0):\n",
    "    soma = sum(args)\n",
    "    media = soma/len(args)\n",
    "    return media + margem\n",
    "calcula_media(10,8,9, margem=0.3)"
   ]
  },
  {
   "cell_type": "code",
   "execution_count": 24,
   "metadata": {},
   "outputs": [
    {
     "name": "stdout",
     "output_type": "stream",
     "text": [
      "{'nome': 'Richard', 'sobrenome': 'Cabral'} <class 'dict'>\n"
     ]
    }
   ],
   "source": [
    "#KeyWordARGumentS \n",
    "# usada em ciencia de dados e visualização de dados (graficos)\n",
    "def print_info(**kwargs):\n",
    "    print(kwargs, type(kwargs))\n",
    "print_info(nome = 'Richard', sobrenome='Cabral')\n"
   ]
  }
 ],
 "metadata": {
  "kernelspec": {
   "display_name": "Python 3.10.6 64-bit (microsoft store)",
   "language": "python",
   "name": "python3"
  },
  "language_info": {
   "codemirror_mode": {
    "name": "ipython",
    "version": 3
   },
   "file_extension": ".py",
   "mimetype": "text/x-python",
   "name": "python",
   "nbconvert_exporter": "python",
   "pygments_lexer": "ipython3",
   "version": "3.10.6"
  },
  "orig_nbformat": 4,
  "vscode": {
   "interpreter": {
    "hash": "4556432e6a13de10d0c02510dc88c5f325eba771d266cd3c575674a8c1ac8fb1"
   }
  }
 },
 "nbformat": 4,
 "nbformat_minor": 2
}
