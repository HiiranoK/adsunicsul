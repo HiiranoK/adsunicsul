{
 "cells": [
  {
   "cell_type": "code",
   "execution_count": 4,
   "metadata": {},
   "outputs": [
    {
     "name": "stdout",
     "output_type": "stream",
     "text": [
      "Requirement already satisfied: requests in c:\\users\\richard\\appdata\\local\\packages\\pythonsoftwarefoundation.python.3.10_qbz5n2kfra8p0\\localcache\\local-packages\\python310\\site-packages (2.28.1)\n",
      "Requirement already satisfied: charset-normalizer<3,>=2 in c:\\users\\richard\\appdata\\local\\packages\\pythonsoftwarefoundation.python.3.10_qbz5n2kfra8p0\\localcache\\local-packages\\python310\\site-packages (from requests) (2.1.1)\n",
      "Requirement already satisfied: urllib3<1.27,>=1.21.1 in c:\\users\\richard\\appdata\\local\\packages\\pythonsoftwarefoundation.python.3.10_qbz5n2kfra8p0\\localcache\\local-packages\\python310\\site-packages (from requests) (1.26.12)\n",
      "Requirement already satisfied: certifi>=2017.4.17 in c:\\users\\richard\\appdata\\local\\packages\\pythonsoftwarefoundation.python.3.10_qbz5n2kfra8p0\\localcache\\local-packages\\python310\\site-packages (from requests) (2022.6.15.2)\n",
      "Requirement already satisfied: idna<4,>=2.5 in c:\\users\\richard\\appdata\\local\\packages\\pythonsoftwarefoundation.python.3.10_qbz5n2kfra8p0\\localcache\\local-packages\\python310\\site-packages (from requests) (3.4)\n"
     ]
    }
   ],
   "source": [
    "#usando o pip instalador de pacotes python\n",
    "%pip install requests"
   ]
  },
  {
   "cell_type": "code",
   "execution_count": 5,
   "metadata": {},
   "outputs": [],
   "source": [
    "import requests"
   ]
  },
  {
   "cell_type": "markdown",
   "metadata": {},
   "source": [
    "Usaremos uma requisição do tipo get para retornar uma informação.\n",
    "\n",
    "Para enviarmos dado para a api, usamos a requisição post."
   ]
  },
  {
   "cell_type": "code",
   "execution_count": 9,
   "metadata": {},
   "outputs": [
    {
     "name": "stdout",
     "output_type": "stream",
     "text": [
      "200\n"
     ]
    }
   ],
   "source": [
    "url = 'https://api.exchangerate-api.com/v6/latest'\n",
    "\n",
    "req = requests.get(url)\n",
    "print(req.status_code) #status 200 =ok"
   ]
  },
  {
   "cell_type": "code",
   "execution_count": 11,
   "metadata": {},
   "outputs": [
    {
     "name": "stdout",
     "output_type": "stream",
     "text": [
      "{'result': 'success', 'provider': 'https://www.exchangerate-api.com', 'documentation': 'https://www.exchangerate-api.com/docs/free', 'terms_of_use': 'https://www.exchangerate-api.com/terms', 'time_last_update_unix': 1663113752, 'time_last_update_utc': 'Wed, 14 Sep 2022 00:02:32 +0000', 'time_next_update_unix': 1663201582, 'time_next_update_utc': 'Thu, 15 Sep 2022 00:26:22 +0000', 'time_eol_unix': 0, 'base_code': 'USD', 'rates': {'USD': 1, 'AED': 3.6725, 'AFN': 88.11375, 'ALL': 116.001166, 'AMD': 405.356318, 'ANG': 1.79, 'AOA': 431.158342, 'ARS': 142.075198, 'AUD': 1.471695, 'AWG': 1.79, 'AZN': 1.696844, 'BAM': 1.950454, 'BBD': 2, 'BDT': 99.69429, 'BGN': 1.946735, 'BHD': 0.376, 'BIF': 2029.799786, 'BMD': 1, 'BND': 1.402788, 'BOB': 6.892676, 'BRL': 5.120128, 'BSD': 1, 'BTN': 79.291628, 'BWP': 13.030701, 'BYN': 2.538346, 'BZD': 2, 'CAD': 1.309899, 'CDF': 2008.801933, 'CHF': 0.958387, 'CLP': 897.977325, 'CNY': 6.942988, 'COP': 4360.073106, 'CRC': 651.155369, 'CUP': 24, 'CVE': 109.961939, 'CZK': 24.454139, 'DJF': 177.721, 'DKK': 7.439875, 'DOP': 53.162449, 'DZD': 140.701536, 'EGP': 19.317027, 'ERN': 15, 'ETB': 52.672455, 'EUR': 0.997322, 'FJD': 2.21032, 'FKP': 0.865009, 'FOK': 7.439875, 'GBP': 0.865062, 'GEL': 2.834069, 'GGP': 0.865009, 'GHS': 10.338394, 'GIP': 0.865009, 'GMD': 55.743827, 'GNF': 8645.360779, 'GTQ': 7.723006, 'GYD': 209.441414, 'HKD': 7.851772, 'HNL': 24.590032, 'HRK': 7.513792, 'HTG': 117.857013, 'HUF': 396.358179, 'IDR': 14862.360527, 'ILS': 3.41921, 'IMP': 0.865009, 'INR': 79.293843, 'IQD': 1461.262578, 'IRR': 41912.649216, 'ISK': 137.903582, 'JEP': 0.865009, 'JMD': 151.781083, 'JOD': 0.709, 'JPY': 143.812856, 'KES': 120.768756, 'KGS': 81.965347, 'KHR': 4120.405917, 'KID': 1.471539, 'KMF': 490.615585, 'KRW': 1383.228259, 'KWD': 0.29963, 'KYD': 0.833333, 'KZT': 472.941064, 'LAK': 17744.857205, 'LBP': 1507.5, 'LKR': 356.700692, 'LRD': 153.649582, 'LSL': 17.33142, 'LYD': 4.959788, 'MAD': 10.739211, 'MDL': 19.315152, 'MGA': 4116.410749, 'MKD': 60.582685, 'MMK': 2746.934525, 'MNT': 3219.328658, 'MOP': 8.087303, 'MRU': 37.797682, 'MUR': 44.468396, 'MVR': 15.395533, 'MWK': 1036.364284, 'MXN': 20.004538, 'MYR': 4.495566, 'MZN': 64.527166, 'NAD': 17.33142, 'NGN': 424.330831, 'NIO': 35.882753, 'NOK': 10.02728, 'NPR': 126.866604, 'NZD': 1.656566, 'OMR': 0.384497, 'PAB': 1, 'PEN': 3.857165, 'PGK': 3.516417, 'PHP': 56.867023, 'PKR': 231.326202, 'PLN': 4.683297, 'PYG': 6901.526113, 'QAR': 3.64, 'RON': 4.89005, 'RSD': 116.526807, 'RUB': 60.047092, 'RWF': 1075.326043, 'SAR': 3.75, 'SBD': 8.005088, 'SCR': 13.051722, 'SDG': 565.00705, 'SEK': 10.619094, 'SGD': 1.402994, 'SHP': 0.865009, 'SLE': 14.335087, 'SLL': 14335.087214, 'SOS': 569.114115, 'SRD': 26.054512, 'SSP': 650.384688, 'STN': 24.432662, 'SYP': 2509.263336, 'SZL': 17.33142, 'THB': 36.500531, 'TJS': 10.278845, 'TMT': 3.499973, 'TND': 2.917866, 'TOP': 2.337985, 'TRY': 18.253062, 'TTD': 6.755621, 'TVD': 1.471539, 'TWD': 31.007128, 'TZS': 2330.348594, 'UAH': 36.903341, 'UGX': 3809.724301, 'UYU': 40.750448, 'UZS': 10958.941209, 'VES': 8.004, 'VND': 23557.213742, 'VUV': 116.993261, 'WST': 2.714419, 'XAF': 654.154113, 'XCD': 2.7, 'XDR': 0.766418, 'XOF': 654.154113, 'XPF': 119.004018, 'YER': 250.010748, 'ZAR': 17.333012, 'ZMW': 15.580878, 'ZWL': 598.398553}}\n"
     ]
    }
   ],
   "source": [
    "dados = req.json() #pegará o json retornado pela api e transforma em um dicionário.\n",
    "print(dados)"
   ]
  },
  {
   "cell_type": "code",
   "execution_count": 12,
   "metadata": {},
   "outputs": [
    {
     "name": "stdout",
     "output_type": "stream",
     "text": [
      "R$ 100.0 em dólar valem US$19.53\n"
     ]
    }
   ],
   "source": [
    "valor_reais = float(input('informe o valor em R$ a ser convertido\\n'))\n",
    "cotacao = dados['rates']['BRL']\n",
    "print(f'R$ {valor_reais} em dólar valem US${(valor_reais/cotacao):.2f}')"
   ]
  },
  {
   "cell_type": "markdown",
   "metadata": {},
   "source": [
    "Existem diversas APIs, com diversas funcionalidades, há uma lista de APIs publicas no github pra fazer alguns testes."
   ]
  }
 ],
 "metadata": {
  "kernelspec": {
   "display_name": "Python 3.10.6 64-bit (microsoft store)",
   "language": "python",
   "name": "python3"
  },
  "language_info": {
   "codemirror_mode": {
    "name": "ipython",
    "version": 3
   },
   "file_extension": ".py",
   "mimetype": "text/x-python",
   "name": "python",
   "nbconvert_exporter": "python",
   "pygments_lexer": "ipython3",
   "version": "3.10.6"
  },
  "orig_nbformat": 4,
  "vscode": {
   "interpreter": {
    "hash": "4556432e6a13de10d0c02510dc88c5f325eba771d266cd3c575674a8c1ac8fb1"
   }
  }
 },
 "nbformat": 4,
 "nbformat_minor": 2
}
