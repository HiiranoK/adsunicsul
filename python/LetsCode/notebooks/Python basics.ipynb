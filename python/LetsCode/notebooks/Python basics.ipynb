{
 "cells": [
  {
   "cell_type": "code",
   "execution_count": 2,
   "id": "b5d9fffa",
   "metadata": {},
   "outputs": [
    {
     "name": "stdout",
     "output_type": "stream",
     "text": [
      "Informe a sua idade!27\n",
      "27 <class 'int'>\n"
     ]
    }
   ],
   "source": [
    "idade = int(input(\"Informe a sua idade!\"))\n",
    "print(idade, type(idade))"
   ]
  },
  {
   "cell_type": "code",
   "execution_count": 3,
   "id": "cba9a028",
   "metadata": {},
   "outputs": [
    {
     "name": "stdout",
     "output_type": "stream",
     "text": [
      "123.25\n",
      "123.25\n",
      "False\n",
      "True\n",
      "False\n",
      "True\n"
     ]
    }
   ],
   "source": [
    "print(float('123.25'))\n",
    "print(str(123.25))\n",
    "print(bool(''))\n",
    "print(bool('abc'))\n",
    "print(bool(0))\n",
    "print(bool(-2))"
   ]
  },
  {
   "cell_type": "code",
   "execution_count": 7,
   "id": "8b9bacbd",
   "metadata": {},
   "outputs": [
    {
     "name": "stdout",
     "output_type": "stream",
     "text": [
      "Digite o valor do seu salario mensal:5000\n",
      "Agora informe o seu custo de vida mensal3000\n",
      "Você consegue economizar ao final do ano é:  24000.0 R$\n"
     ]
    }
   ],
   "source": [
    "salario_mensal = float(input(\"Digite o valor do seu salario mensal:\"))\n",
    "gasto_mensal = float(input(\"Agora informe o seu custo de vida mensal\"))\n",
    "\n",
    "if(gasto_mensal > salario_mensal):\n",
    "    print(\"Melhor rever os seus custos\")\n",
    "else:\n",
    "    print(\"Você consegue economizar ao final do ano é: \", (salario_mensal - gasto_mensal)*12,'R$')"
   ]
  },
  {
   "cell_type": "code",
   "execution_count": 12,
   "id": "2cac776c",
   "metadata": {},
   "outputs": [
    {
     "name": "stdout",
     "output_type": "stream",
     "text": [
      "Digite o valor da corrida25\n",
      "Aguarde um pouco pra verificar se o valor atualiza\n"
     ]
    }
   ],
   "source": [
    "valor_busao = 4.30\n",
    "preco_corrida = float(input(\"Digite o valor da corrida \"))\n",
    "if(preco_corrida <= valor_busao *5):\n",
    "    print(\"Ok vou pegar essa corrida\")\n",
    "elif(preco_corrida <= valor_busao *6):\n",
    "    print(\"Aguarde um pouco pra verificar se o valor atualiza\")\n",
    "else:\n",
    "    print(\"Tá muito caro, melhor avisar que vou atrasar\")"
   ]
  },
  {
   "cell_type": "code",
   "execution_count": 14,
   "id": "f2c6b522",
   "metadata": {},
   "outputs": [
    {
     "name": "stdout",
     "output_type": "stream",
     "text": [
      "1 Item limpo\n",
      "2 Itens limpos\n",
      "3 Itens limpos\n",
      "4 Itens limpos\n",
      "5 Itens limpos\n",
      "6 Itens limpos\n",
      "7 Itens limpos\n",
      "8 Itens limpos\n",
      "9 Itens limpos\n",
      "10 Itens limpos\n",
      "Fim da repetição do bloco while\n"
     ]
    }
   ],
   "source": [
    "contador = 0\n",
    "while contador < 10:\n",
    "    contador+=1\n",
    "    if contador ==1:\n",
    "        print(contador,\"Item limpo\")\n",
    "    else:\n",
    "        print(contador,\"Itens limpos\")\n",
    "print(\"Fim da repetição do bloco while\")"
   ]
  },
  {
   "cell_type": "code",
   "execution_count": 16,
   "id": "e88acfa1",
   "metadata": {},
   "outputs": [
    {
     "name": "stdout",
     "output_type": "stream",
     "text": [
      "1 Item limpo\n",
      "2 Itens limpos\n",
      "3 Itens limpos\n",
      "4 Itens limpos\n",
      "5 Itens limpos\n",
      "6 Itens limpos\n",
      "7 Itens limpos\n",
      "8 Itens limpos\n",
      "9 Itens limpos\n",
      "10 Itens limpos\n",
      "Fim da repetição do bloco while\n"
     ]
    }
   ],
   "source": [
    "contador = 0\n",
    "while True:\n",
    "    if contador < 10:\n",
    "        contador+=1\n",
    "        if contador ==1:\n",
    "            print(contador,\"Item limpo\")\n",
    "        else:\n",
    "            print(contador,\"Itens limpos\")\n",
    "    else:\n",
    "        break\n",
    "print(\"Fim da repetição do bloco while\")"
   ]
  },
  {
   "cell_type": "code",
   "execution_count": 17,
   "id": "6677a62b",
   "metadata": {},
   "outputs": [
    {
     "name": "stdout",
     "output_type": "stream",
     "text": [
      "Digite a sua senhaletscode\n",
      "Senha Inválida, Tente novamenteLetsCode\n",
      "Acesso permitido\n"
     ]
    }
   ],
   "source": [
    "texto = input(\"Digite a sua senha\")\n",
    "while texto != 'LetsCode':\n",
    "    texto = input('Senha Inválida, Tente novamente')\n",
    "print('Acesso permitido')"
   ]
  },
  {
   "cell_type": "code",
   "execution_count": 18,
   "id": "7fed451a",
   "metadata": {},
   "outputs": [
    {
     "name": "stdout",
     "output_type": "stream",
     "text": [
      "2 Itens limpos\n",
      "3 Itens limpos\n",
      "4 Itens limpos\n",
      "5 Itens limpos\n",
      "6 Itens limpos\n",
      "7 Itens limpos\n",
      "8 Itens limpos\n",
      "9 Itens limpos\n",
      "10 Itens limpos\n",
      "Fim da repetição do bloco while\n"
     ]
    }
   ],
   "source": [
    "contador = 0\n",
    "while contador < 10:\n",
    "    contador+=1\n",
    "    if contador ==1:\n",
    "        continue\n",
    "    else:\n",
    "        print(contador,\"Itens limpos\")\n",
    "print(\"Fim da repetição do bloco while\")"
   ]
  },
  {
   "cell_type": "code",
   "execution_count": 22,
   "id": "fa6ad42f",
   "metadata": {},
   "outputs": [
    {
     "name": "stdout",
     "output_type": "stream",
     "text": [
      "['Brasil', 'Argentina', 'China', 'Canadá', 'Japão']\n",
      "tamanho da lista 5\n"
     ]
    }
   ],
   "source": [
    "nomes_paises = ['Brasil','Argentina','China','Canadá','Japão']\n",
    "print(nomes_paises)\n",
    "print('tamanho da lista', len(nomes_paises))"
   ]
  },
  {
   "cell_type": "code",
   "execution_count": 24,
   "id": "f08fd281",
   "metadata": {},
   "outputs": [
    {
     "name": "stdout",
     "output_type": "stream",
     "text": [
      "pais Canadá\n",
      "pais Canadá\n"
     ]
    }
   ],
   "source": [
    "print('pais', nomes_paises[3])\n",
    "print('pais', nomes_paises[-2])"
   ]
  },
  {
   "cell_type": "code",
   "execution_count": 40,
   "id": "8383c98d",
   "metadata": {},
   "outputs": [],
   "source": [
    "nomes_paises.append('China')"
   ]
  },
  {
   "cell_type": "code",
   "execution_count": 27,
   "id": "4c9d75f0",
   "metadata": {},
   "outputs": [
    {
     "name": "stdout",
     "output_type": "stream",
     "text": [
      "pais colombia\n"
     ]
    }
   ],
   "source": [
    "print('pais', nomes_paises[2])"
   ]
  },
  {
   "cell_type": "code",
   "execution_count": 41,
   "id": "a0a83642",
   "metadata": {},
   "outputs": [
    {
     "name": "stdout",
     "output_type": "stream",
     "text": [
      "fatiamento\n",
      "['Argentina', 'colombia', 'Canadá', 'Japão', 'China']\n",
      "['Argentina', 'colombia', 'Canadá', 'Japão', 'China']\n",
      "['Brasil', 'Argentina', 'colombia', 'Canadá', 'Japão']\n",
      "['Brasil', 'Argentina', 'colombia', 'Canadá', 'Japão', 'China']\n"
     ]
    }
   ],
   "source": [
    "print('fatiamento')\n",
    "print(nomes_paises[1:6])\n",
    "print(nomes_paises[1:])\n",
    "print(nomes_paises[:-1])\n",
    "print(nomes_paises[:])"
   ]
  },
  {
   "cell_type": "code",
   "execution_count": 34,
   "id": "26482645",
   "metadata": {},
   "outputs": [
    {
     "name": "stdout",
     "output_type": "stream",
     "text": [
      "contador de incremento\n",
      "['Brasil', 'colombia', 'Japão']\n",
      "['Japão', 'Canadá', 'colombia', 'Argentina', 'Brasil']\n"
     ]
    }
   ],
   "source": [
    "print('contador de incremento')\n",
    "print(nomes_paises[0:5:2])\n",
    "print(nomes_paises[::-1])"
   ]
  },
  {
   "cell_type": "code",
   "execution_count": 35,
   "id": "4aff244e",
   "metadata": {},
   "outputs": [
    {
     "name": "stdout",
     "output_type": "stream",
     "text": [
      "True\n"
     ]
    }
   ],
   "source": [
    "print('Brasil' in nomes_paises)"
   ]
  },
  {
   "cell_type": "code",
   "execution_count": 36,
   "id": "5279cdba",
   "metadata": {},
   "outputs": [
    {
     "name": "stdout",
     "output_type": "stream",
     "text": [
      "True\n"
     ]
    }
   ],
   "source": [
    "print('Canada' not in nomes_paises)"
   ]
  },
  {
   "cell_type": "code",
   "execution_count": 1,
   "id": "1bd805fe",
   "metadata": {},
   "outputs": [],
   "source": [
    "lista_capitais = []"
   ]
  },
  {
   "cell_type": "code",
   "execution_count": 2,
   "id": "2baecd45",
   "metadata": {},
   "outputs": [
    {
     "name": "stdout",
     "output_type": "stream",
     "text": [
      "['Brasilia', 'Buenos Aires', 'Bogotá', 'Pequim']\n"
     ]
    }
   ],
   "source": [
    "lista_capitais.append(\"Brasilia\")\n",
    "lista_capitais.append(\"Buenos Aires\")\n",
    "lista_capitais.append(\"Bogotá\")\n",
    "lista_capitais.append(\"Pequim\")\n",
    "print(lista_capitais)"
   ]
  },
  {
   "cell_type": "code",
   "execution_count": 4,
   "id": "871a9814",
   "metadata": {},
   "outputs": [
    {
     "name": "stdout",
     "output_type": "stream",
     "text": [
      "['Brasilia', 'Buenos Aires', 'París', 'Bogotá', 'Pequim']\n"
     ]
    }
   ],
   "source": [
    "lista_capitais.insert(2, \"París\")\n",
    "print(lista_capitais)"
   ]
  },
  {
   "cell_type": "code",
   "execution_count": 3,
   "id": "26249756",
   "metadata": {},
   "outputs": [
    {
     "name": "stdout",
     "output_type": "stream",
     "text": [
      "['Brasilia', 'Bogotá', 'Pequim']\n"
     ]
    }
   ],
   "source": [
    "lista_capitais.remove('Buenos Aires')\n",
    "print(lista_capitais)"
   ]
  },
  {
   "cell_type": "code",
   "execution_count": 4,
   "id": "42cefb05",
   "metadata": {},
   "outputs": [
    {
     "name": "stdout",
     "output_type": "stream",
     "text": [
      "['Brasilia', 'Bogotá'] Pequim\n"
     ]
    }
   ],
   "source": [
    "removido = lista_capitais.pop(2)\n",
    "print(lista_capitais, removido)"
   ]
  },
  {
   "cell_type": "code",
   "execution_count": 16,
   "id": "3c5c99eb",
   "metadata": {},
   "outputs": [
    {
     "name": "stdout",
     "output_type": "stream",
     "text": [
      "Declarando uma tupla\n",
      "('Brasil', 'Argentina', 'China', 'Canada', 'Japão')\n"
     ]
    }
   ],
   "source": [
    "print(\"Declarando uma tupla\")\n",
    "nome_paises = ('Brasil', 'Argentina', 'China', 'Canada', 'Japão')\n",
    "print(nome_paises)"
   ]
  },
  {
   "cell_type": "code",
   "execution_count": 11,
   "id": "fccfc320",
   "metadata": {},
   "outputs": [
    {
     "name": "stdout",
     "output_type": "stream",
     "text": [
      "('Brasil', 'Argentina', 'China', 'Canada', 'Japão') <class 'tuple'>\n"
     ]
    }
   ],
   "source": [
    "nome_paises = 'Brasil', 'Argentina', 'China', 'Canada', 'Japão'\n",
    "print(nome_paises, type(nome_paises))"
   ]
  },
  {
   "cell_type": "code",
   "execution_count": 14,
   "id": "a5135fbc",
   "metadata": {},
   "outputs": [
    {
     "name": "stdout",
     "output_type": "stream",
     "text": [
      "Declarando tupla de elemento único\n"
     ]
    }
   ],
   "source": [
    "print('Declarando tupla de elemento único')\n",
    "nome_estado = 'São Paulo', "
   ]
  },
  {
   "cell_type": "code",
   "execution_count": 18,
   "id": "d5fe4ade",
   "metadata": {},
   "outputs": [
    {
     "name": "stdout",
     "output_type": "stream",
     "text": [
      "Brasil China Japão\n"
     ]
    }
   ],
   "source": [
    "print(\"função unpacking da tupla\")\n",
    "b, a , c ,ca, j = nome_paises\n",
    "print(b,c,j)"
   ]
  },
  {
   "cell_type": "code",
   "execution_count": 20,
   "id": "f8c1ac06",
   "metadata": {},
   "outputs": [
    {
     "name": "stdout",
     "output_type": "stream",
     "text": [
      "Brasil Argentina China Canada Japão\n"
     ]
    }
   ],
   "source": [
    "print(\"Extraindo os valores pra fora da variável\")\n",
    "print(*nome_paises)"
   ]
  },
  {
   "cell_type": "code",
   "execution_count": null,
   "id": "3adaab59",
   "metadata": {},
   "outputs": [],
   "source": []
  }
 ],
 "metadata": {
  "kernelspec": {
   "display_name": "Python 3.10.6 64-bit (microsoft store)",
   "language": "python",
   "name": "python3"
  },
  "language_info": {
   "codemirror_mode": {
    "name": "ipython",
    "version": 3
   },
   "file_extension": ".py",
   "mimetype": "text/x-python",
   "name": "python",
   "nbconvert_exporter": "python",
   "pygments_lexer": "ipython3",
   "version": "3.10.6"
  },
  "vscode": {
   "interpreter": {
    "hash": "4556432e6a13de10d0c02510dc88c5f325eba771d266cd3c575674a8c1ac8fb1"
   }
  }
 },
 "nbformat": 4,
 "nbformat_minor": 5
}
