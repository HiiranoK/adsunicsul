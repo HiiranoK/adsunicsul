{
 "cells": [
  {
   "cell_type": "code",
   "execution_count": 5,
   "metadata": {},
   "outputs": [
    {
     "name": "stdout",
     "output_type": "stream",
     "text": [
      "São Paulo\n",
      "London\n",
      "Tokio\n",
      "Paris\n"
     ]
    }
   ],
   "source": [
    "#for para iteração de objetos\n",
    "nomes_cidades = ['São Paulo', 'London', 'Tokio', 'Paris']\n",
    "for nome in nomes_cidades:\n",
    "    print(nome)"
   ]
  },
  {
   "cell_type": "code",
   "execution_count": 7,
   "metadata": {},
   "outputs": [
    {
     "name": "stdout",
     "output_type": "stream",
     "text": [
      "São Paulo\n",
      "London\n",
      "Tokio\n",
      "Paris\n"
     ]
    }
   ],
   "source": [
    "#mesmo exemplo com while\n",
    "contador = 0\n",
    "nomes_cidades = ['São Paulo', 'London','Tokio',\"Paris\"]\n",
    "while contador < len(nomes_cidades):\n",
    "    print(nomes_cidades[contador])\n",
    "    contador += 1"
   ]
  },
  {
   "cell_type": "code",
   "execution_count": 9,
   "metadata": {},
   "outputs": [
    {
     "name": "stdout",
     "output_type": "stream",
     "text": [
      "São Paulo\n",
      "London\n",
      "Tokio\n",
      "Paris\n"
     ]
    }
   ],
   "source": [
    "#for na tupla\n",
    "nomes_cidades = 'São Paulo', 'London', 'Tokio', 'Paris'\n",
    "for nome in nomes_cidades:\n",
    "    print(nome)"
   ]
  },
  {
   "cell_type": "code",
   "execution_count": 12,
   "metadata": {},
   "outputs": [
    {
     "name": "stdout",
     "output_type": "stream",
     "text": [
      "nome: São Paulo\n",
      "estado: São Paulo\n",
      "populacao_milhoes: 12.2\n"
     ]
    }
   ],
   "source": [
    "#for no dicionário\n",
    "cidade ={\n",
    "    'nome': 'São Paulo',\n",
    "    'estado': 'São Paulo',\n",
    "    'populacao_milhoes': 12.2\n",
    "}\n",
    "for chave in cidade:\n",
    "    print(f'{chave}: {cidade[chave]}')"
   ]
  },
  {
   "cell_type": "code",
   "execution_count": 17,
   "metadata": {},
   "outputs": [
    {
     "name": "stdout",
     "output_type": "stream",
     "text": [
      "['São Paulo', 'London', 'Tokio', 'Paris']\n",
      "0\n",
      "1\n",
      "2\n",
      "3\n",
      "['Rio de Janeiro', 'Rio de Janeiro', 'Rio de Janeiro', 'Rio de Janeiro']\n"
     ]
    }
   ],
   "source": [
    "nomes_cidades = ['São Paulo', 'London', 'Tokio', 'Paris']\n",
    "for nome in nomes_cidades: #o laço faz uma cópia dos valores\n",
    "    nome = 'Rio de Janeiro' # o valor está sendo atribuido na cópia\n",
    "print(nomes_cidades)\n",
    "#usando o range para acessar as posições dentro da lista.\n",
    "for posicao in range(len(nomes_cidades)):\n",
    "    print(posicao)\n",
    "    nomes_cidades[posicao] = 'Rio de Janeiro'\n",
    "print(nomes_cidades)"
   ]
  },
  {
   "cell_type": "code",
   "execution_count": 18,
   "metadata": {},
   "outputs": [
    {
     "name": "stdout",
     "output_type": "stream",
     "text": [
      "[0, 1, 2, 3, 4, 5, 6, 7, 8, 9]\n",
      "[2, 3, 4, 5, 6, 7, 8, 9]\n",
      "[2, 4, 6, 8]\n"
     ]
    }
   ],
   "source": [
    "#3 'sobrecargas' do range\n",
    "print(list(range(10))) #valor passado -1\n",
    "print(list(range(2,10))) # valor do começo da lista até valor passado -1 \n",
    "print(list(range(2,10,2))) # valor do começo da lista até o valor passado -1 de 2 em 2."
   ]
  }
 ],
 "metadata": {
  "kernelspec": {
   "display_name": "Python 3.10.6 64-bit (microsoft store)",
   "language": "python",
   "name": "python3"
  },
  "language_info": {
   "codemirror_mode": {
    "name": "ipython",
    "version": 3
   },
   "file_extension": ".py",
   "mimetype": "text/x-python",
   "name": "python",
   "nbconvert_exporter": "python",
   "pygments_lexer": "ipython3",
   "version": "3.10.6"
  },
  "orig_nbformat": 4,
  "vscode": {
   "interpreter": {
    "hash": "4556432e6a13de10d0c02510dc88c5f325eba771d266cd3c575674a8c1ac8fb1"
   }
  }
 },
 "nbformat": 4,
 "nbformat_minor": 2
}
