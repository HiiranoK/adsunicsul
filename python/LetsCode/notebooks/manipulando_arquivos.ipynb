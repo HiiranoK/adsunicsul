{
 "cells": [
  {
   "cell_type": "code",
   "execution_count": 1,
   "metadata": {},
   "outputs": [
    {
     "name": "stdout",
     "output_type": "stream",
     "text": [
      "Dom Casmurro \n",
      "\n",
      "Texto de referenda: \n",
      "Obras Completas de Machado de Assis, vol. I, \n",
      "Nova Aguilar, Rio de Janeiro, 1994. \n",
      "Publicado originalmente pela Editora Gamier, Rio de Janeiro, 1899. \n",
      "\n",
      "\n",
      "CAPITULO PRIMEIRO \n",
      "DO TITULO \n",
      "\n",
      "Uma noite destas, vindo da cidade para o Engenho Novo, encontrei no trem da \n",
      "Central um rapaz aqui do bairro, que eu conhego de vista e de chapeu. \n",
      "Cumprimentou-me, sentou-se ao pe de mim, falou da Lua e dos ministros, e \n",
      "acabou recitando-me versos. A viagem era curta, e os versos pode ser que nao \n",
      "fossem inteiramente maus. Sucedeu, porem, que, como eu estava cansado, fechei \n",
      "os olhos tres ou quatro vezes; tanto bastou para que ele interrompesse a leitura e \n",
      "metesse os versos no bolso. \n",
      "\n",
      "— Continue, disse eu acordando. \n",
      "\n",
      "— Ja acabei, murmurou ele. \n",
      "\n",
      "— Sao muito bonitos. \n",
      "\n",
      "Vi-lhe fazer um gesto para tira-los outra vez do bolso, mas nao passou do gesto; \n",
      "estava amuado. No dia seguinte entrou a dizer de mim nomes feios, e acabou \n",
      "alcunhando-me Dom Casmurro. Os vizinhos, que nao gostam dos meus habitos \n",
      "reclusos e calados, deram curso a alcunha, que afinal pegou. Nem por isso me \n",
      "zanguei. Contei a anedota aos amigos da cidade, e eles, por graga, chamam-me \n",
      "assim, alguns em bilhetes: \"Dom Casmurro, domingo vou jantar com voce”.— \n",
      "\"Vou para Petropolis, Dom Casmurro; a casa e a mesma da Renania; ve se deixas \n",
      "essa caverna do Engenho Novo, e vai la passar uns quinze dias comigo\".— \"Meu \n",
      "caro Dom Casmurro, nao cuide que o dispenso do teatro amanha; venha e dormira \n",
      "aqui na cidade; dou-lhe camarote, dou-lhe cha, dou-lhe cama; so nao Ihe dou \n",
      "moga”. \n",
      "\n",
      "Nao consultes dicionarios. Casmurro nao esta aqui no sentido que eles Ihe dao, \n",
      "mas no que Ihe pos o vulgo de homem calado e metido consigo. Dom veio por \n",
      "ironia, para atribuir-me fumos de fidalgo. Tudo por estar cochilando! Tambem nao \n",
      "achei melhor titulo para a minha narracao; se nao tiver outro daqui ate ao fim do \n",
      "livro, vai este mesmo. O meu poeta do trem ficara sabendo que nao Ihe guardo \n",
      "rancor. E com pequeno esforco, sendo o titulo seu, podera cuidar que a obra e \n",
      "sua. Ha livros que apenas terao isso dos seus autores; alguns nem tanto. \n",
      "\n"
     ]
    }
   ],
   "source": [
    "#                   local arquivo  ,   modo leitura ou escrita , tipo de decodificacao (se necessário)\n",
    "arquivo = open('../arquivos/dom_casmurro_cap_1.txt', 'r', encoding='utf-8')\n",
    "texto = arquivo.read() # a leitura                          \n",
    "print(texto) #imprimindo a variável\n",
    "arquivo.close() # fechando o arquivo"
   ]
  },
  {
   "cell_type": "markdown",
   "metadata": {},
   "source": [
    "Quando lemos um arquivo em python, é criado um cursor de leitura, ele é incrementado a cada leitura, não é possível ler uma linha 2 vezes ou ler a linha anterior, a cada readline() a próxima linha será exibida."
   ]
  },
  {
   "cell_type": "code",
   "execution_count": 3,
   "metadata": {},
   "outputs": [
    {
     "name": "stdout",
     "output_type": "stream",
     "text": [
      "Dom Casmurro \n",
      "\n",
      "Texto de referenda: \n",
      "Obras Completas de Machado de Assis, vol. I, \n",
      "Nova Aguilar, Rio de Janeiro, 1994. \n",
      "Publicado originalmente pela Editora Gamier, Rio de Janeiro, 1899. \n",
      "\n",
      "\n",
      "CAPITULO PRIMEIRO \n",
      "DO TITULO \n",
      "\n",
      "Uma noite destas, vindo da cidade para o Engenho Novo, encontrei no trem da \n",
      "Central um rapaz aqui do bairro, que eu conhego de vista e de chapeu. \n",
      "Cumprimentou-me, sentou-se ao pe de mim, falou da Lua e dos ministros, e \n",
      "acabou recitando-me versos. A viagem era curta, e os versos pode ser que nao \n",
      "fossem inteiramente maus. Sucedeu, porem, que, como eu estava cansado, fechei \n",
      "os olhos tres ou quatro vezes; tanto bastou para que ele interrompesse a leitura e \n",
      "metesse os versos no bolso. \n",
      "\n",
      "— Continue, disse eu acordando. \n",
      "\n",
      "— Ja acabei, murmurou ele. \n",
      "\n",
      "— Sao muito bonitos. \n",
      "\n",
      "Vi-lhe fazer um gesto para tira-los outra vez do bolso, mas nao passou do gesto; \n",
      "estava amuado. No dia seguinte entrou a dizer de mim nomes feios, e acabou \n",
      "alcunhando-me Dom Casmurro. Os vizinhos, que nao gostam dos meus habitos \n",
      "reclusos e calados, deram curso a alcunha, que afinal pegou. Nem por isso me \n",
      "zanguei. Contei a anedota aos amigos da cidade, e eles, por graga, chamam-me \n",
      "assim, alguns em bilhetes: \"Dom Casmurro, domingo vou jantar com voce”.— \n",
      "\"Vou para Petropolis, Dom Casmurro; a casa e a mesma da Renania; ve se deixas \n",
      "essa caverna do Engenho Novo, e vai la passar uns quinze dias comigo\".— \"Meu \n",
      "caro Dom Casmurro, nao cuide que o dispenso do teatro amanha; venha e dormira \n",
      "aqui na cidade; dou-lhe camarote, dou-lhe cha, dou-lhe cama; so nao Ihe dou \n",
      "moga”. \n",
      "\n",
      "Nao consultes dicionarios. Casmurro nao esta aqui no sentido que eles Ihe dao, \n",
      "mas no que Ihe pos o vulgo de homem calado e metido consigo. Dom veio por \n",
      "ironia, para atribuir-me fumos de fidalgo. Tudo por estar cochilando! Tambem nao \n",
      "achei melhor titulo para a minha narracao; se nao tiver outro daqui ate ao fim do \n",
      "livro, vai este mesmo. O meu poeta do trem ficara sabendo que nao Ihe guardo \n",
      "rancor. E com pequeno esforco, sendo o titulo seu, podera cuidar que a obra e \n",
      "sua. Ha livros que apenas terao isso dos seus autores; alguns nem tanto. \n"
     ]
    }
   ],
   "source": [
    "\n",
    "arquivo = open('../arquivos/dom_casmurro_cap_1.txt', 'r', encoding='utf-8')\n",
    "\n",
    "linha = arquivo.readline()\n",
    "\n",
    "while linha != '':\n",
    "    print(linha, end='')\n",
    "    linha = arquivo.readline() #\n",
    "arquivo.close()"
   ]
  },
  {
   "cell_type": "code",
   "execution_count": 8,
   "metadata": {},
   "outputs": [
    {
     "name": "stdout",
     "output_type": "stream",
     "text": [
      "Dom Casmurro \n",
      "\n",
      "Texto de referenda: \n",
      "Obras Completas de Machado de Assis, vol. I, \n",
      "Nova Aguilar, Rio de Janeiro, 1994. \n",
      "Publicado originalmente pela Editora Gamier, Rio de Janeiro, 1899. \n",
      "\n",
      "\n",
      "CAPITULO PRIMEIRO \n",
      "DO TITULO \n",
      "\n",
      "Uma noite destas, vindo da cidade para o Engenho Novo, encontrei no trem da \n",
      "Central um rapaz aqui do bairro, que eu conhego de vista e de chapeu. \n",
      "Cumprimentou-me, sentou-se ao pe de mim, falou da Lua e dos ministros, e \n",
      "acabou recitando-me versos. A viagem era curta, e os versos pode ser que nao \n",
      "fossem inteiramente maus. Sucedeu, porem, que, como eu estava cansado, fechei \n",
      "os olhos tres ou quatro vezes; tanto bastou para que ele interrompesse a leitura e \n",
      "metesse os versos no bolso. \n",
      "\n",
      "— Continue, disse eu acordando. \n",
      "\n",
      "— Ja acabei, murmurou ele. \n",
      "\n",
      "— Sao muito bonitos. \n",
      "\n",
      "Vi-lhe fazer um gesto para tira-los outra vez do bolso, mas nao passou do gesto; \n",
      "estava amuado. No dia seguinte entrou a dizer de mim nomes feios, e acabou \n",
      "alcunhando-me Dom Casmurro. Os vizinhos, que nao gostam dos meus habitos \n",
      "reclusos e calados, deram curso a alcunha, que afinal pegou. Nem por isso me \n",
      "zanguei. Contei a anedota aos amigos da cidade, e eles, por graga, chamam-me \n",
      "assim, alguns em bilhetes: \"Dom Casmurro, domingo vou jantar com voce”.— \n",
      "\"Vou para Petropolis, Dom Casmurro; a casa e a mesma da Renania; ve se deixas \n",
      "essa caverna do Engenho Novo, e vai la passar uns quinze dias comigo\".— \"Meu \n",
      "caro Dom Casmurro, nao cuide que o dispenso do teatro amanha; venha e dormira \n",
      "aqui na cidade; dou-lhe camarote, dou-lhe cha, dou-lhe cama; so nao Ihe dou \n",
      "moga”. \n",
      "\n",
      "Nao consultes dicionarios. Casmurro nao esta aqui no sentido que eles Ihe dao, \n",
      "mas no que Ihe pos o vulgo de homem calado e metido consigo. Dom veio por \n",
      "ironia, para atribuir-me fumos de fidalgo. Tudo por estar cochilando! Tambem nao \n",
      "achei melhor titulo para a minha narracao; se nao tiver outro daqui ate ao fim do \n",
      "livro, vai este mesmo. O meu poeta do trem ficara sabendo que nao Ihe guardo \n",
      "rancor. E com pequeno esforco, sendo o titulo seu, podera cuidar que a obra e \n",
      "sua. Ha livros que apenas terao isso dos seus autores; alguns nem tanto. \n"
     ]
    }
   ],
   "source": [
    "arquivo = open('../arquivos/dom_casmurro_cap_1.txt', 'r', encoding='utf-8')\n",
    "for linha in arquivo:\n",
    "    print(linha, end='')\n",
    "arquivo.close()"
   ]
  },
  {
   "cell_type": "code",
   "execution_count": 10,
   "metadata": {},
   "outputs": [
    {
     "name": "stdout",
     "output_type": "stream",
     "text": [
      "Dom Casmurro \n",
      "\n",
      "Texto de referenda: \n",
      "Obras Completas de Machado de Assis, vol. I, \n",
      "Nova Aguilar, Rio de Janeiro, 1994. \n",
      "Publicado originalmente pela Editora Gamier, Rio de Janeiro, 1899. \n",
      "\n",
      "\n",
      "CAPITULO PRIMEIRO \n",
      "DO TITULO \n",
      "\n",
      "Uma noite destas, vindo da cidade para o Engenho Novo, encontrei no trem da \n",
      "Central um rapaz aqui do bairro, que eu conhego de vista e de chapeu. \n",
      "Cumprimentou-me, sentou-se ao pe de mim, falou da Lua e dos ministros, e \n",
      "acabou recitando-me versos. A viagem era curta, e os versos pode ser que nao \n",
      "fossem inteiramente maus. Sucedeu, porem, que, como eu estava cansado, fechei \n",
      "os olhos tres ou quatro vezes; tanto bastou para que ele interrompesse a leitura e \n",
      "metesse os versos no bolso. \n",
      "\n",
      "— Continue, disse eu acordando. \n",
      "\n",
      "— Ja acabei, murmurou ele. \n",
      "\n",
      "— Sao muito bonitos. \n",
      "\n",
      "Vi-lhe fazer um gesto para tira-los outra vez do bolso, mas nao passou do gesto; \n",
      "estava amuado. No dia seguinte entrou a dizer de mim nomes feios, e acabou \n",
      "alcunhando-me Dom Casmurro. Os vizinhos, que nao gostam dos meus habitos \n",
      "reclusos e calados, deram curso a alcunha, que afinal pegou. Nem por isso me \n",
      "zanguei. Contei a anedota aos amigos da cidade, e eles, por graga, chamam-me \n",
      "assim, alguns em bilhetes: \"Dom Casmurro, domingo vou jantar com voce”.— \n",
      "\"Vou para Petropolis, Dom Casmurro; a casa e a mesma da Renania; ve se deixas \n",
      "essa caverna do Engenho Novo, e vai la passar uns quinze dias comigo\".— \"Meu \n",
      "caro Dom Casmurro, nao cuide que o dispenso do teatro amanha; venha e dormira \n",
      "aqui na cidade; dou-lhe camarote, dou-lhe cha, dou-lhe cama; so nao Ihe dou \n",
      "moga”. \n",
      "\n",
      "Nao consultes dicionarios. Casmurro nao esta aqui no sentido que eles Ihe dao, \n",
      "mas no que Ihe pos o vulgo de homem calado e metido consigo. Dom veio por \n",
      "ironia, para atribuir-me fumos de fidalgo. Tudo por estar cochilando! Tambem nao \n",
      "achei melhor titulo para a minha narracao; se nao tiver outro daqui ate ao fim do \n",
      "livro, vai este mesmo. O meu poeta do trem ficara sabendo que nao Ihe guardo \n",
      "rancor. E com pequeno esforco, sendo o titulo seu, podera cuidar que a obra e \n",
      "sua. Ha livros que apenas terao isso dos seus autores; alguns nem tanto. \n",
      "\n"
     ]
    }
   ],
   "source": [
    "with open('../arquivos/dom_casmurro_cap_1.txt', 'r', encoding='utf-8') as arquivo:\n",
    "    texto = arquivo.read()\n",
    "    print(texto)"
   ]
  },
  {
   "cell_type": "markdown",
   "metadata": {},
   "source": [
    "O bloco with realiza as ações no arquivo e ao final do processo fecha o mesmo automáticamente.\n",
    "\n",
    "######################################################################################\n",
    "#MUITO CUIDADO COM O PARAMENTRO 'w' ELE É RESPONSÁVEL POR CRIAR E SUBSTITUIR ARQUIVOS#\n",
    "######################################################################################\n",
    "\n",
    "o parametro 'r' serve para leitura\n",
    "\n",
    "já o 'a' adiciona informações a um arquivo.\n",
    "\n",
    "existem outros modos de leitura e escrita, um exemplo é o 'r+' que permite ambos juntos"
   ]
  },
  {
   "cell_type": "code",
   "execution_count": 11,
   "metadata": {},
   "outputs": [
    {
     "name": "stdout",
     "output_type": "stream",
     "text": [
      "essa é uma linha que eu escrevi usando python \n",
      "essa é a segunda linha escrita com python ;D\n"
     ]
    }
   ],
   "source": [
    "with open('../arquivos/arquivo_teste.txt','w',encoding='utf-8') as arquivo:\n",
    "    arquivo.write('essa é uma linha que eu escrevi usando python \\n')\n",
    "    arquivo.write('essa é a segunda linha escrita com python ;D\\n')\n",
    "\n",
    "with open('../arquivos/arquivo_teste.txt','r',encoding='utf-8') as arquivo:\n",
    "    print(arquivo.read(), end='')\n",
    "\n",
    "with open('../arquivos/arquivo_teste.txt','a',encoding='utf-8') as arquivo:\n",
    "    arquivo.write('já essa, é a terceira linha do arquivo \\[+]/ praise the sun \\n')"
   ]
  }
 ],
 "metadata": {
  "kernelspec": {
   "display_name": "Python 3.10.6 64-bit (microsoft store)",
   "language": "python",
   "name": "python3"
  },
  "language_info": {
   "codemirror_mode": {
    "name": "ipython",
    "version": 3
   },
   "file_extension": ".py",
   "mimetype": "text/x-python",
   "name": "python",
   "nbconvert_exporter": "python",
   "pygments_lexer": "ipython3",
   "version": "3.10.6"
  },
  "orig_nbformat": 4,
  "vscode": {
   "interpreter": {
    "hash": "4556432e6a13de10d0c02510dc88c5f325eba771d266cd3c575674a8c1ac8fb1"
   }
  }
 },
 "nbformat": 4,
 "nbformat_minor": 2
}
