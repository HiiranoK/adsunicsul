{
 "cells": [
  {
   "cell_type": "code",
   "execution_count": 2,
   "metadata": {},
   "outputs": [
    {
     "name": "stdout",
     "output_type": "stream",
     "text": [
      "MENU PRINCIPAL\n"
     ]
    }
   ],
   "source": [
    "cabecalho = \"             MENU PRINCIPAL            \"\n",
    "print(cabecalho.strip())"
   ]
  },
  {
   "cell_type": "code",
   "execution_count": 4,
   "metadata": {},
   "outputs": [
    {
     "name": "stdout",
     "output_type": "stream",
     "text": [
      "Rio De Janiero\n",
      "Rio de janiero\n",
      "rio de janiero\n",
      "RIO DE JANIERO\n"
     ]
    }
   ],
   "source": [
    "nome_cidade = \"rIo DE JanIerO\"\n",
    "print(nome_cidade.title())#Rio De Janeiro\n",
    "print(nome_cidade.capitalize())#Rio de janeiro\n",
    "print(nome_cidade.lower())#rio de janeiro\n",
    "print(nome_cidade.upper())#RIO DE JANEIRO"
   ]
  },
  {
   "cell_type": "code",
   "execution_count": 1,
   "metadata": {},
   "outputs": [
    {
     "name": "stdout",
     "output_type": "stream",
     "text": [
      "Hum, não tá certo tenta de novo!\n",
      "Isso ae você acertou =)\n"
     ]
    }
   ],
   "source": [
    "nome_cidade = input(\"Qual cidade Brasileira é conhecida como cidade maravilhosa?\")\n",
    "nome_cidade = nome_cidade.strip()\n",
    "while nome_cidade.lower() != 'rio de janeiro':\n",
    "    print(\"Hum, não tá certo tenta de novo!\")\n",
    "    nome_cidade = input(\"Qual cidade Brasileira é conhecida como cidade maravilhosa?\")\n",
    "print(\"Isso ae você acertou =)\")"
   ]
  },
  {
   "cell_type": "code",
   "execution_count": 3,
   "metadata": {},
   "outputs": [
    {
     "name": "stdout",
     "output_type": "stream",
     "text": [
      "True\n"
     ]
    }
   ],
   "source": [
    "mensagem = 'você viu o que o Pietro disse na sala ontem?'\n",
    "fui_citado = 'Pietro' in mensagem\n",
    "print(fui_citado)"
   ]
  },
  {
   "cell_type": "code",
   "execution_count": 4,
   "metadata": {},
   "outputs": [
    {
     "name": "stdout",
     "output_type": "stream",
     "text": [
      "Olá, Felipe\n",
      "FelipeFelipeFelipeFelipeFelipe\n"
     ]
    }
   ],
   "source": [
    "#String 2 operações matematicas com String.\n",
    "cumprimento = \"Olá, \"\n",
    "nome = \"Felipe\"\n",
    "print (cumprimento + nome)\n",
    "print(nome*5)"
   ]
  },
  {
   "cell_type": "code",
   "execution_count": 11,
   "metadata": {},
   "outputs": [
    {
     "name": "stdout",
     "output_type": "stream",
     "text": [
      "Felipe tem 35 anos e 2 filhos\n",
      "Felipe tem 35 anos e 2 filhos\n",
      "Felipe tem 35 anos e 2 filhos\n"
     ]
    }
   ],
   "source": [
    "nome = \"Felipe\"\n",
    "idade = 35\n",
    "filhos = 2\n",
    "print(nome + \" tem \"+ str(idade) + \" anos e \" + str(filhos) + \" filhos\")\n",
    "#format\n",
    "print(\"{} tem {} anos e {} filhos\".format(nome,idade,filhos))\n",
    "print(f'{nome} tem {idade} anos e {filhos} filhos')"
   ]
  },
  {
   "cell_type": "code",
   "execution_count": 12,
   "metadata": {},
   "outputs": [
    {
     "name": "stdout",
     "output_type": "stream",
     "text": [
      "O preço da gasolina hoje subiu e está em R$ 3.48\n"
     ]
    }
   ],
   "source": [
    "preco_gasolina = 3.476\n",
    "print(\"O preço da gasolina hoje subiu e está em R$ {:.2f}\".format(preco_gasolina))"
   ]
  },
  {
   "cell_type": "code",
   "execution_count": null,
   "metadata": {},
   "outputs": [],
   "source": []
  }
 ],
 "metadata": {
  "kernelspec": {
   "display_name": "Python 3.10.6 64-bit (microsoft store)",
   "language": "python",
   "name": "python3"
  },
  "language_info": {
   "codemirror_mode": {
    "name": "ipython",
    "version": 3
   },
   "file_extension": ".py",
   "mimetype": "text/x-python",
   "name": "python",
   "nbconvert_exporter": "python",
   "pygments_lexer": "ipython3",
   "version": "3.10.6"
  },
  "orig_nbformat": 4,
  "vscode": {
   "interpreter": {
    "hash": "4556432e6a13de10d0c02510dc88c5f325eba771d266cd3c575674a8c1ac8fb1"
   }
  }
 },
 "nbformat": 4,
 "nbformat_minor": 2
}
