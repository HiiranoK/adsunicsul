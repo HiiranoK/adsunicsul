{
 "cells": [
  {
   "cell_type": "code",
   "execution_count": 69,
   "metadata": {},
   "outputs": [
    {
     "name": "stdout",
     "output_type": "stream",
     "text": [
      "O total de pares neste array é: 7\n"
     ]
    }
   ],
   "source": [
    "lista = [10,8,7,9,4,2,6,22,42]\n",
    "total =0\n",
    "for item in lista:\n",
    "    valor = item\n",
    "    if(valor%2 == 0):\n",
    "        total +=1\n",
    "print(f\"O total de pares neste array é: {total}\")"
   ]
  },
  {
   "cell_type": "code",
   "execution_count": 70,
   "metadata": {},
   "outputs": [],
   "source": [
    "palavra = input('informe uma palavra')\n",
    "\n",
    "for char in palavra:\n",
    "    print(char)"
   ]
  },
  {
   "cell_type": "code",
   "execution_count": 80,
   "metadata": {},
   "outputs": [],
   "source": [
    "def recebe_listas(lista1,lista2):\n",
    "    lista3 = [0,0,0]\n",
    "    for item in range(len(lista1)):\n",
    "        lista3[item] += lista1[item]\n",
    "        lista3[item] += lista2[item]\n",
    "    print(\"a lista com valores somados:\", lista3)"
   ]
  },
  {
   "cell_type": "code",
   "execution_count": 81,
   "metadata": {},
   "outputs": [
    {
     "name": "stdout",
     "output_type": "stream",
     "text": [
      "a lista com valores somados: [4, 9, 4]\n"
     ]
    }
   ],
   "source": [
    "lista1=[1,4,3]\n",
    "lista2=[3,5,1]\n",
    "\n",
    "recebe_listas(lista1,lista2)"
   ]
  },
  {
   "cell_type": "code",
   "execution_count": 74,
   "metadata": {},
   "outputs": [],
   "source": [
    "ano ={\n",
    "    'janeiro':31,\n",
    "    'fevereiro':28,\n",
    "    'março':31,\n",
    "    'abril':30,\n",
    "    'maio':31,\n",
    "    'junho':30,\n",
    "    'julho':31,\n",
    "    'agosto':31,\n",
    "    'setembro':30,\n",
    "    'outubro':31,\n",
    "    'novembro':30,\n",
    "    'dezembro':31\n",
    "}"
   ]
  },
  {
   "cell_type": "code",
   "execution_count": 79,
   "metadata": {},
   "outputs": [
    {
     "name": "stdout",
     "output_type": "stream",
     "text": [
      "janeiro: 31\n",
      "fevereiro: 28\n",
      "março: 31\n",
      "abril: 30\n",
      "maio: 31\n",
      "junho: 30\n",
      "julho: 31\n",
      "agosto: 31\n",
      "setembro: 30\n",
      "outubro: 31\n",
      "novembro: 30\n",
      "dezembro: 31\n"
     ]
    }
   ],
   "source": [
    "for chave in ano:\n",
    "    print(f'{chave}: {ano[chave]}')"
   ]
  }
 ],
 "metadata": {
  "kernelspec": {
   "display_name": "Python 3.10.6 64-bit (microsoft store)",
   "language": "python",
   "name": "python3"
  },
  "language_info": {
   "codemirror_mode": {
    "name": "ipython",
    "version": 3
   },
   "file_extension": ".py",
   "mimetype": "text/x-python",
   "name": "python",
   "nbconvert_exporter": "python",
   "pygments_lexer": "ipython3",
   "version": "3.10.6"
  },
  "orig_nbformat": 4,
  "vscode": {
   "interpreter": {
    "hash": "4556432e6a13de10d0c02510dc88c5f325eba771d266cd3c575674a8c1ac8fb1"
   }
  }
 },
 "nbformat": 4,
 "nbformat_minor": 2
}
