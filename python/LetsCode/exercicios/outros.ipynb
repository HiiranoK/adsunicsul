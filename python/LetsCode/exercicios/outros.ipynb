{
 "cells": [
  {
   "cell_type": "code",
   "execution_count": 4,
   "metadata": {},
   "outputs": [
    {
     "name": "stdout",
     "output_type": "stream",
     "text": [
      "5 [1, 2, 3, 4, 5]\n"
     ]
    }
   ],
   "source": [
    "def teste(list,n):\n",
    "    if n > len(list):\n",
    "        while n >= len(list):\n",
    "            list.append(list[len(list) - 1] +1)\n",
    "    return(list[n])\n",
    "li = [1,2]\n",
    "print(teste(li,4),li)"
   ]
  },
  {
   "cell_type": "code",
   "execution_count": null,
   "metadata": {},
   "outputs": [],
   "source": []
  }
 ],
 "metadata": {
  "kernelspec": {
   "display_name": "Python 3.10.6 64-bit (microsoft store)",
   "language": "python",
   "name": "python3"
  },
  "language_info": {
   "codemirror_mode": {
    "name": "ipython",
    "version": 3
   },
   "file_extension": ".py",
   "mimetype": "text/x-python",
   "name": "python",
   "nbconvert_exporter": "python",
   "pygments_lexer": "ipython3",
   "version": "3.10.6"
  },
  "orig_nbformat": 4,
  "vscode": {
   "interpreter": {
    "hash": "4556432e6a13de10d0c02510dc88c5f325eba771d266cd3c575674a8c1ac8fb1"
   }
  }
 },
 "nbformat": 4,
 "nbformat_minor": 2
}
