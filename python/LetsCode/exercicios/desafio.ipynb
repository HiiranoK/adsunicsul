{
 "cells": [
  {
   "cell_type": "code",
   "execution_count": 6,
   "metadata": {},
   "outputs": [
    {
     "name": "stdout",
     "output_type": "stream",
     "text": [
      "1234\n"
     ]
    }
   ],
   "source": [
    "#Faça um programa que peça ao usuário um número e imprima todos os\n",
    "#números de um até o número que o usuário informar\n",
    "valor = int(input(\"informe um numero\"))\n",
    "imprime = ''\n",
    "incremento = 1\n",
    "while(incremento <= valor ):\n",
    "    imprime+= str(incremento)\n",
    "    incremento+=1\n",
    "print(imprime)"
   ]
  },
  {
   "cell_type": "code",
   "execution_count": 17,
   "metadata": {},
   "outputs": [
    {
     "name": "stdout",
     "output_type": "stream",
     "text": [
      "Fora de intervalo\n"
     ]
    }
   ],
   "source": [
    "#Crie um programa que leia um valor qualquer e apresente uma mensagem dizendo em qual\n",
    "#dos seguintes intervalos ([0,25], (25,50], (50,75], (75,100]) este valor se encontra. Caso o valor não\n",
    "#esteja em nenhum destes intervalos, deverá ser impressa a mensagem “Fora de intervalo”. Veja\n",
    "#alguns exemplo abaixo:\n",
    "valor = float(input(\"informe um numero\"))\n",
    "if(valor>=0 and valor <= 25):\n",
    "    print('[0,25]')\n",
    "elif(valor>=0 and valor <= 50):\n",
    "    print('[25,50')\n",
    "elif(valor>=0 and valor <= 75):\n",
    "    print('[50,75')\n",
    "if(valor>=0 and valor <=100):\n",
    "    print('[75,100]')\n",
    "else:\n",
    "    print('Fora de intervalo')"
   ]
  },
  {
   "cell_type": "code",
   "execution_count": 23,
   "metadata": {},
   "outputs": [
    {
     "name": "stdout",
     "output_type": "stream",
     "text": [
      "78.53981633974483\n",
      "25.0\n"
     ]
    }
   ],
   "source": [
    "#Crie uma função que recebe o valor do raio de um círculo como parâmetro e retorna o valor da\n",
    "#área desse círculo. Lembrando que a área de círculo é dada pela equação: A = ℼ r^2\n",
    "import math\n",
    "raio = float(input('informe o valor do raio'))\n",
    "\n",
    "area = math.pi * raio**2\n",
    "print(area)"
   ]
  },
  {
   "cell_type": "code",
   "execution_count": 24,
   "metadata": {},
   "outputs": [
    {
     "name": "stdout",
     "output_type": "stream",
     "text": [
      "22.5\n",
      "43.5\n",
      "91.125\n"
     ]
    }
   ],
   "source": [
    "#Faça um programa que peça 2 números inteiros e um número real, calcule e mostre:\n",
    "#a) o produto entre o dobro do primeiro e a metade do segundo.\n",
    "#b) a soma entre o triplo do primeiro e o terceiro.\n",
    "#c) o terceiro elevado ao cubo.\n",
    "\n",
    "valor1 = int(input('informe o 1º valor inteiro'))\n",
    "valor2 = int(input(\"informe o 2º valor inteiro\"))\n",
    "valor3 = float(input('informe um valor real'))\n",
    "\n",
    "def metodo_um(um,dois):\n",
    "    valor = um*2 + dois/2\n",
    "    return valor\n",
    "\n",
    "def metodo_dois(um,tres):\n",
    "    valor = (um*3) + (tres*3)\n",
    "    return valor\n",
    "\n",
    "def metodo_tres(tres):\n",
    "    valor = tres**3\n",
    "    return valor\n",
    "\n",
    "print(metodo_um(valor1,valor2))\n",
    "print(metodo_dois(valor1,valor3))\n",
    "print(metodo_tres(valor3))\n"
   ]
  },
  {
   "cell_type": "code",
   "execution_count": null,
   "metadata": {},
   "outputs": [],
   "source": [
    "#Vamos fazer um programa para verificar quem é o assassino de um\n",
    "#crime. Para descobrir o assassino, a polícia faz um pequeno questionário\n",
    "#com 5 perguntas onde a resposta só pode ser sim ou não:\n",
    "##################################\n",
    "#feita no exercicios_python.ipynb#\n",
    "##################################"
   ]
  },
  {
   "cell_type": "code",
   "execution_count": 29,
   "metadata": {},
   "outputs": [
    {
     "name": "stdout",
     "output_type": "stream",
     "text": [
      "28\n"
     ]
    }
   ],
   "source": [
    "#Faça uma função que recebe uma lista de números e retorna a soma dos elementos dessa lista.\n",
    "lista = [1,2,3,4,5,6,7]\n",
    "\n",
    "def interando_pela_lista(lista):\n",
    "    soma = 0\n",
    "    for item in lista:\n",
    "        soma+= item\n",
    "    print(soma)\n",
    "interando_pela_lista(lista)"
   ]
  },
  {
   "cell_type": "code",
   "execution_count": 32,
   "metadata": {},
   "outputs": [
    {
     "name": "stdout",
     "output_type": "stream",
     "text": [
      "2.23606797749979\n"
     ]
    }
   ],
   "source": [
    "x1= int(input('informe o valor de x1'))\n",
    "y1= int(input('informe o valor de y1'))\n",
    "x2= int(input('informe o valor de x2'))\n",
    "y2= int(input('informe o valor de y2'))\n",
    "\n",
    "distancia = math.sqrt((x2-x1)**2 + (y2-y1)**2)\n",
    "print(distancia)"
   ]
  }
 ],
 "metadata": {
  "kernelspec": {
   "display_name": "Python 3.10.6 64-bit (microsoft store)",
   "language": "python",
   "name": "python3"
  },
  "language_info": {
   "codemirror_mode": {
    "name": "ipython",
    "version": 3
   },
   "file_extension": ".py",
   "mimetype": "text/x-python",
   "name": "python",
   "nbconvert_exporter": "python",
   "pygments_lexer": "ipython3",
   "version": "3.10.6"
  },
  "orig_nbformat": 4,
  "vscode": {
   "interpreter": {
    "hash": "4556432e6a13de10d0c02510dc88c5f325eba771d266cd3c575674a8c1ac8fb1"
   }
  }
 },
 "nbformat": 4,
 "nbformat_minor": 2
}
