{
 "cells": [
  {
   "cell_type": "code",
   "execution_count": 1,
   "metadata": {},
   "outputs": [
    {
     "name": "stdout",
     "output_type": "stream",
     "text": [
      "o novo valor é 850.0\n"
     ]
    }
   ],
   "source": [
    "#1- Faça um programa que peça um valor monetário e diminua-o em 15%. Seu\n",
    "#programa deve imprimir a mensagem “O novo valor é [valor]”.\n",
    "valor = int(input(\"digite um valor\"))\n",
    "\n",
    "valor_pos_desconto = valor*0.85\n",
    "\n",
    "print(f'o novo valor é {valor_pos_desconto}')"
   ]
  },
  {
   "cell_type": "code",
   "execution_count": 3,
   "metadata": {},
   "outputs": [
    {
     "name": "stdout",
     "output_type": "stream",
     "text": [
      "idade inválida\n",
      "por favor verifique as informações\n"
     ]
    }
   ],
   "source": [
    "#2- Faça um programa que leia a validade das informações:\n",
    "idade= int(input('insira uma idade válida'))\n",
    "salario = float(input('insira seu salario'))\n",
    "sexo = input('informe o sexo com M, F ou Outro').strip().lower()\n",
    "valida_mensagem = False\n",
    "if(idade < 0 or idade > 150):\n",
    "    print('idade inválida')  \n",
    "    valida_mensagem = True \n",
    "elif(salario < 0):\n",
    "    print('salario inválido')\n",
    "    valida_mensagem = True \n",
    "elif(sexo != 'm' and sexo != 'f' and sexo != 'outro'):\n",
    "    print('sexo inválido')\n",
    "    valida_mensagem = True \n",
    "else:\n",
    "    print(f'As informações registradas foram: idade = {idade}, salario = {salario}, sexo = {sexo}')\n",
    "if(valida_mensagem):\n",
    "    print(\"por favor verifique as informações\")\n"
   ]
  },
  {
   "cell_type": "code",
   "execution_count": 3,
   "metadata": {},
   "outputs": [
    {
     "name": "stdout",
     "output_type": "stream",
     "text": [
      "Responda com sim ou não\n",
      "não entendi, isso é suspeito\n",
      "não entendi, isso é suspeito\n",
      "não entendi, isso é suspeito\n",
      "não entendi, isso é suspeito\n",
      "não entendi, isso é suspeito\n",
      "já tenho os dados necessários, calculando resultado *#*#*#*\n",
      "pode ir embora não tenhos mais suspeitas contra você\n"
     ]
    }
   ],
   "source": [
    "#3- Encontrando o assassino\n",
    "print('Responda com sim ou não')\n",
    "visinho = input('O suspeito é vizinho da vitima?').strip().lower()\n",
    "trabalho = input('Ele já trabalhou junto com a vitima?').strip().lower()\n",
    "telefone = input('Ele telefonou para a vitima recentemente?').strip().lower()\n",
    "local_crime = input('Ele estava no local do crime?').strip().lower()\n",
    "divida = input('O suspeito devia a vitima, ou o inverso?').strip().lower()\n",
    "perguntas = [visinho,trabalho,telefone,local_crime,divida]\n",
    "somatoria = 0\n",
    "\n",
    "for resposta in perguntas:\n",
    "    if(resposta == 'sim'):\n",
    "        somatoria+=1\n",
    "        print( 'hum isso é suspeito')\n",
    "    elif(resposta == 'nao'):\n",
    "        print('há um álibi')\n",
    "    else:\n",
    "        print('não entendi, isso é suspeito')\n",
    "        somatoria+1\n",
    "print('já tenho os dados necessários, calculando resultado *#*#*#*')\n",
    "if(somatoria >= 5):\n",
    "    print('você é o assassino')\n",
    "elif(somatoria >= 3):\n",
    "    print('você é cumplice no assassinato')\n",
    "elif(somatoria == 2):\n",
    "    print('você é suspeito, não saia da cidade')\n",
    "else:\n",
    "    print('pode ir embora não tenhos mais suspeitas contra você')"
   ]
  },
  {
   "cell_type": "code",
   "execution_count": 4,
   "metadata": {},
   "outputs": [
    {
     "name": "stdout",
     "output_type": "stream",
     "text": [
      "9\n",
      "18\n",
      "27\n",
      "36\n",
      "45\n",
      "54\n",
      "63\n",
      "72\n",
      "81\n",
      "90\n",
      "Fim da tabuada\n"
     ]
    }
   ],
   "source": [
    "#4- Tabuada\n",
    "multiplicador = 1\n",
    "\n",
    "while(multiplicador <= 10):\n",
    "    print(9*multiplicador)\n",
    "    multiplicador+=1\n",
    "print('Fim da tabuada')"
   ]
  }
 ],
 "metadata": {
  "kernelspec": {
   "display_name": "Python 3.10.6 64-bit (microsoft store)",
   "language": "python",
   "name": "python3"
  },
  "language_info": {
   "codemirror_mode": {
    "name": "ipython",
    "version": 3
   },
   "file_extension": ".py",
   "mimetype": "text/x-python",
   "name": "python",
   "nbconvert_exporter": "python",
   "pygments_lexer": "ipython3",
   "version": "3.10.6"
  },
  "orig_nbformat": 4,
  "vscode": {
   "interpreter": {
    "hash": "4556432e6a13de10d0c02510dc88c5f325eba771d266cd3c575674a8c1ac8fb1"
   }
  }
 },
 "nbformat": 4,
 "nbformat_minor": 2
}
