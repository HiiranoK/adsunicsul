{
 "cells": [
  {
   "cell_type": "code",
   "execution_count": 15,
   "metadata": {},
   "outputs": [
    {
     "ename": "ValueError",
     "evalue": "invalid literal for int() with base 10: ''",
     "output_type": "error",
     "traceback": [
      "\u001b[1;31m---------------------------------------------------------------------------\u001b[0m",
      "\u001b[1;31mValueError\u001b[0m                                Traceback (most recent call last)",
      "Cell \u001b[1;32mIn [15], line 3\u001b[0m\n\u001b[0;32m      1\u001b[0m \u001b[38;5;66;03m#Faça um programa que peça um valor monetário e diminua-o em 15%. Seu\u001b[39;00m\n\u001b[0;32m      2\u001b[0m \u001b[38;5;66;03m#programa deve imprimir a mensagem “O novo valor é [valor]”.\u001b[39;00m\n\u001b[1;32m----> 3\u001b[0m valor \u001b[38;5;241m=\u001b[39m \u001b[38;5;28;43mint\u001b[39;49m\u001b[43m(\u001b[49m\u001b[38;5;28;43minput\u001b[39;49m\u001b[43m(\u001b[49m\u001b[38;5;124;43m\"\u001b[39;49m\u001b[38;5;124;43mdigite um valor\u001b[39;49m\u001b[38;5;124;43m\"\u001b[39;49m\u001b[43m)\u001b[49m\u001b[43m)\u001b[49m\n\u001b[0;32m      5\u001b[0m valor_pos_desconto \u001b[38;5;241m=\u001b[39m valor\u001b[38;5;241m*\u001b[39m\u001b[38;5;241m0.85\u001b[39m\n\u001b[0;32m      7\u001b[0m \u001b[38;5;28mprint\u001b[39m(\u001b[38;5;124mf\u001b[39m\u001b[38;5;124m'\u001b[39m\u001b[38;5;124mo novo valor é \u001b[39m\u001b[38;5;132;01m{\u001b[39;00mvalor_pos_desconto\u001b[38;5;132;01m}\u001b[39;00m\u001b[38;5;124m'\u001b[39m)\n",
      "\u001b[1;31mValueError\u001b[0m: invalid literal for int() with base 10: ''"
     ]
    }
   ],
   "source": [
    "#1- Faça um programa que peça um valor monetário e diminua-o em 15%. Seu\n",
    "#programa deve imprimir a mensagem “O novo valor é [valor]”.\n",
    "valor = int(input(\"digite um valor\"))\n",
    "\n",
    "valor_pos_desconto = valor*0.85\n",
    "\n",
    "print(f'o novo valor é {valor_pos_desconto}')"
   ]
  },
  {
   "cell_type": "code",
   "execution_count": 7,
   "metadata": {},
   "outputs": [
    {
     "name": "stdout",
     "output_type": "stream",
     "text": [
      "As informações registradas foram: idade = 40, salario = 5000.0, sexo = m\n"
     ]
    }
   ],
   "source": [
    "#2- Faça um programa que leia a validade das informações:\n",
    "idade= int(input('insira uma idade válida'))\n",
    "salario = float(input('insira seu salario'))\n",
    "sexo = input('informe o sexo com M, F ou Outro')\n",
    "sexo = sexo.strip().lower()\n",
    "\n",
    "if(idade < 0 and idade > 150):\n",
    "    print('idade inválida')\n",
    "elif(salario < 0):\n",
    "    print('salario inválido')\n",
    "elif(sexo != 'm' and sexo != 'f' and sexo != 'outro'):\n",
    "    print('sexo inválido')\n",
    "else:\n",
    "    print(f'As informações registradas foram: idade = {idade}, salario = {salario}, sexo = {sexo}')"
   ]
  },
  {
   "cell_type": "code",
   "execution_count": 19,
   "metadata": {},
   "outputs": [
    {
     "name": "stdout",
     "output_type": "stream",
     "text": [
      "Responda com sim ou não\n",
      "há um halibe\n",
      "há um halibe\n",
      "há um halibe\n",
      "hum isso é suspeito\n",
      "hum isso é suspeito\n",
      "já tenho os dados necessários, calculando resultado *#*#*#*\n",
      "você é suspeito, não saia da cidade\n"
     ]
    }
   ],
   "source": [
    "#3- Encontrando o assassino\n",
    "print('Responda com sim ou não')\n",
    "visinho = input('O suspeito é vizinho da vitima?').strip().lower()\n",
    "trabalho = input('Ele já trabalhou junto com a vitima?').strip().lower()\n",
    "telefone = input('Ele telefonou para a vitima recentemente?').strip().lower()\n",
    "local_crime = input('Ele estava no local do crime?').strip().lower()\n",
    "divida = input('O suspeito devia a vitima, ou o inverso?').strip().lower()\n",
    "perguntas = [visinho,trabalho,telefone,local_crime,divida]\n",
    "somatoria = 0\n",
    "for resposta in perguntas:\n",
    "    if(resposta == 'sim'):\n",
    "        somatoria+=1\n",
    "        print( 'hum isso é suspeito')\n",
    "    else:\n",
    "        print('há um álibi')\n",
    "print('já tenho os dados necessários, calculando resultado *#*#*#*')\n",
    "if(somatoria >= 5):\n",
    "    print('você é o assassino')\n",
    "elif(somatoria >= 3):\n",
    "    print('você é cumplice no assassinato')\n",
    "elif(somatoria == 2):\n",
    "    print('você é suspeito, não saia da cidade')\n",
    "else:\n",
    "    print('pode ir embora não tenhos mais suspeitas contra você')"
   ]
  },
  {
   "cell_type": "code",
   "execution_count": 21,
   "metadata": {},
   "outputs": [
    {
     "name": "stdout",
     "output_type": "stream",
     "text": [
      "9\n",
      "18\n",
      "27\n",
      "36\n",
      "45\n",
      "54\n",
      "63\n",
      "72\n",
      "81\n",
      "90\n",
      "Fim da tabuada\n"
     ]
    }
   ],
   "source": [
    "#4- Tabuada\n",
    "multiplicador = 1\n",
    "\n",
    "while(multiplicador <= 10):\n",
    "    print(9*multiplicador)\n",
    "    multiplicador+=1\n",
    "print('Fim da tabuada')"
   ]
  }
 ],
 "metadata": {
  "kernelspec": {
   "display_name": "Python 3.10.6 64-bit (microsoft store)",
   "language": "python",
   "name": "python3"
  },
  "language_info": {
   "codemirror_mode": {
    "name": "ipython",
    "version": 3
   },
   "file_extension": ".py",
   "mimetype": "text/x-python",
   "name": "python",
   "nbconvert_exporter": "python",
   "pygments_lexer": "ipython3",
   "version": "3.10.6"
  },
  "orig_nbformat": 4,
  "vscode": {
   "interpreter": {
    "hash": "4556432e6a13de10d0c02510dc88c5f325eba771d266cd3c575674a8c1ac8fb1"
   }
  }
 },
 "nbformat": 4,
 "nbformat_minor": 2
}
